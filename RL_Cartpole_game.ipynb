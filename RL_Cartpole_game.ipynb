{
  "nbformat": 4,
  "nbformat_minor": 0,
  "metadata": {
    "colab": {
      "name": "RL Cartpole game",
      "version": "0.3.2",
      "provenance": [],
      "collapsed_sections": [],
      "include_colab_link": true
    },
    "kernelspec": {
      "name": "python3",
      "display_name": "Python 3"
    },
    "accelerator": "GPU"
  },
  "cells": [
    {
      "cell_type": "markdown",
      "metadata": {
        "id": "view-in-github",
        "colab_type": "text"
      },
      "source": [
        "<a href=\"https://colab.research.google.com/github/vangelis-michael/Deep-learning-/blob/master/RL_Cartpole_game.ipynb\" target=\"_parent\"><img src=\"https://colab.research.google.com/assets/colab-badge.svg\" alt=\"Open In Colab\"/></a>"
      ]
    },
    {
      "cell_type": "markdown",
      "metadata": {
        "id": "6NaPfiVod6pN",
        "colab_type": "text"
      },
      "source": [
        "# REINFORCEMENT LEARNING ON CARTPOLE GAME"
      ]
    },
    {
      "cell_type": "code",
      "metadata": {
        "id": "86Q7BZmDd6pU",
        "colab_type": "code",
        "colab": {}
      },
      "source": [
        "!apt-get install -y xvfb python-opengl > /dev/null 2>&1\n",
        "!pip install gym pyvirtualdisplay scikit-video > /dev/null 2>&1"
      ],
      "execution_count": 0,
      "outputs": []
    },
    {
      "cell_type": "code",
      "metadata": {
        "id": "nMRDvJZnd6pg",
        "colab_type": "code",
        "outputId": "efeaa360-fd27-4b86-cbcb-f8fa744143c6",
        "colab": {
          "base_uri": "https://localhost:8080/",
          "height": 69
        }
      },
      "source": [
        "import tensorflow as tf\n",
        "tf.enable_eager_execution()\n",
        "\n",
        "import gym\n",
        "import numpy as np\n",
        "import matplotlib.pyplot as plt\n",
        "from IPython import display as ipythondisplay\n",
        "import time\n",
        "\n",
        "# Download repositories\n",
        "! git clone https://github.com/aamini/introtodeeplearning_labs.git > /dev/null 2>&1\n",
        "% cd introtodeeplearning_labs\n",
        "! git pull\n",
        "% cd .."
      ],
      "execution_count": 0,
      "outputs": [
        {
          "output_type": "stream",
          "text": [
            "/content/introtodeeplearning_labs\n",
            "Already up to date.\n",
            "/content\n"
          ],
          "name": "stdout"
        }
      ]
    },
    {
      "cell_type": "code",
      "metadata": {
        "id": "rHOpFTJLd6p8",
        "colab_type": "code",
        "outputId": "7bce62a1-6b1c-440d-c721-4d06c315c33a",
        "colab": {
          "base_uri": "https://localhost:8080/",
          "height": 34
        }
      },
      "source": [
        "env = gym.make(\"CartPole-v0\")\n",
        "env.seed(1) # reproducible, since RL has high variance"
      ],
      "execution_count": 0,
      "outputs": [
        {
          "output_type": "execute_result",
          "data": {
            "text/plain": [
              "[1]"
            ]
          },
          "metadata": {
            "tags": []
          },
          "execution_count": 3
        }
      ]
    },
    {
      "cell_type": "code",
      "metadata": {
        "id": "274rGWI5d6qD",
        "colab_type": "code",
        "outputId": "a6d07d87-096e-45d9-ac60-67d5ed44020e",
        "colab": {
          "base_uri": "https://localhost:8080/",
          "height": 34
        }
      },
      "source": [
        "print(\"Environment has observation space = {}\".format(env.observation_space))"
      ],
      "execution_count": 0,
      "outputs": [
        {
          "output_type": "stream",
          "text": [
            "Environment has observation space = Box(4,)\n"
          ],
          "name": "stdout"
        }
      ]
    },
    {
      "cell_type": "code",
      "metadata": {
        "id": "GZf6ei0rd6qJ",
        "colab_type": "code",
        "outputId": "5c017d0f-ef7c-4754-96a1-f1e926bfc1d8",
        "colab": {
          "base_uri": "https://localhost:8080/",
          "height": 34
        }
      },
      "source": [
        "n_actions = env.action_space.n\n",
        "print(\"Number of possible actions that the agent can choose from = {}\".format(n_actions))"
      ],
      "execution_count": 0,
      "outputs": [
        {
          "output_type": "stream",
          "text": [
            "Number of possible actions that the agent can choose from = 2\n"
          ],
          "name": "stdout"
        }
      ]
    },
    {
      "cell_type": "markdown",
      "metadata": {
        "id": "lMsOHp-pd6qP",
        "colab_type": "text"
      },
      "source": [
        "### Define the Agent"
      ]
    },
    {
      "cell_type": "code",
      "metadata": {
        "id": "DUFW7b6Pd6qQ",
        "colab_type": "code",
        "colab": {}
      },
      "source": [
        "def create_cartpole_model():\n",
        "  \n",
        "  model = tf.keras.models.Sequential([tf.keras.layers.Dense(units=32, activation='relu'), \n",
        "                                        tf.keras.layers.Dense(units=n_actions, activation=None)\n",
        "                                       ])\n",
        "  return model\n",
        "\n",
        "cartpole_model = create_cartpole_model()"
      ],
      "execution_count": 0,
      "outputs": []
    },
    {
      "cell_type": "code",
      "metadata": {
        "id": "GU7pcyKud6qS",
        "colab_type": "code",
        "colab": {}
      },
      "source": [
        "def choose_action(model, observation):\n",
        "    observation = observation.reshape([1, -1])\n",
        "    logits = model.predict(observation)\n",
        "    \n",
        "    prob_weights = tf.nn.softmax(logits).numpy()\n",
        "    \n",
        "    action = np.random.choice(n_actions, size=1, p=prob_weights.flatten())[0]\n",
        "    \n",
        "    return action"
      ],
      "execution_count": 0,
      "outputs": []
    },
    {
      "cell_type": "code",
      "metadata": {
        "id": "B9x1T07Zd6qX",
        "colab_type": "code",
        "colab": {}
      },
      "source": [
        "class Memory:\n",
        "    def __init__(self):\n",
        "        self.clear()\n",
        "    \n",
        "    def clear(self):\n",
        "        self.observations = []\n",
        "        self.actions = []\n",
        "        self.rewards = []\n",
        "        \n",
        "    def add_to_memory(self, new_observation, new_action, new_reward):\n",
        "        self.observations.append(new_observation)\n",
        "        self.actions.append(new_action)\n",
        "        self.rewards.append(new_reward)\n",
        "        \n",
        "memory = Memory()"
      ],
      "execution_count": 0,
      "outputs": []
    },
    {
      "cell_type": "code",
      "metadata": {
        "id": "F8LtuGRRd6qa",
        "colab_type": "code",
        "colab": {}
      },
      "source": [
        "def normalize(x):\n",
        "    x -= np.mean(x)\n",
        "    x /= np.std(x)\n",
        "    return x\n",
        "\n",
        "def discount_rewards(rewards, gamma=0.95):\n",
        "    discounted_rewards = np.zeros_like(rewards)\n",
        "    R = 0\n",
        "    for t in reversed(range(0, len(rewards))):\n",
        "        R = R * gamma + rewards[t]\n",
        "        discounted_rewards[t] = R\n",
        "        \n",
        "    return normalize(discounted_rewards)\n"
      ],
      "execution_count": 0,
      "outputs": []
    },
    {
      "cell_type": "code",
      "metadata": {
        "id": "jSdHP6Mbd6qd",
        "colab_type": "code",
        "colab": {}
      },
      "source": [
        "learning_rate = 1e-4\n",
        "optimizer = tf.train.AdamOptimizer(learning_rate)"
      ],
      "execution_count": 0,
      "outputs": []
    },
    {
      "cell_type": "code",
      "metadata": {
        "id": "7g7sbL9Zd6qh",
        "colab_type": "code",
        "colab": {}
      },
      "source": [
        "def compute_loss(logits, actions, rewards):\n",
        "    neg_logprob = tf.nn.sparse_softmax_cross_entropy_with_logits(logits=logits, labels=actions)\n",
        "    loss = tf.reduce_mean( neg_logprob * rewards )\n",
        "    return loss"
      ],
      "execution_count": 0,
      "outputs": []
    },
    {
      "cell_type": "code",
      "metadata": {
        "id": "kOe8TVcYd6qk",
        "colab_type": "code",
        "colab": {}
      },
      "source": [
        "def train_step(model, optimizer, observations, actions, discounted_rewards):\n",
        "    with tf.GradientTape() as tape:\n",
        "        observations = tf.convert_to_tensor(observations, dtype=tf.float32)\n",
        "        logits = model(observations)\n",
        "        \n",
        "        loss = compute_loss(logits, actions, discounted_rewards)\n",
        "        \n",
        "    grads = tape.gradient(loss, model.variables)\n",
        "    optimizer.apply_gradients(zip(grads, model.variables), global_step=tf.train.get_or_create_global_step())"
      ],
      "execution_count": 0,
      "outputs": []
    },
    {
      "cell_type": "code",
      "metadata": {
        "id": "zIPjT8Cnd6qm",
        "colab_type": "code",
        "colab": {}
      },
      "source": [
        "class LossHistory:\n",
        "    def __init__(self, smoothing_factor=0.0):\n",
        "        self.alpha = smoothing_factor\n",
        "        self.loss = []\n",
        "    def append(self, value):\n",
        "        self.loss.append( self.alpha*self.loss[-1] + (1-self.alpha)*value if len(self.loss)>0 else value )\n",
        "    def get(self):\n",
        "        return self.loss\n",
        "    \n",
        "class PeriodicPlotter:\n",
        "    def __init__(self, sec, xlabel='', ylabel='', scale=None):\n",
        "        from IPython import display as ipythondisplay\n",
        "        import matplotlib.pyplot as plt\n",
        "        import time\n",
        "        \n",
        "        self.xlabel = xlabel\n",
        "        self.ylabel = ylabel\n",
        "        self.sec = sec\n",
        "        self.scale = scale\n",
        "        \n",
        "        self.tic = time.time()\n",
        "        \n",
        "    def plot(self, data):\n",
        "        if time.time() - self.tic > self.sec:\n",
        "            plt.cla()  \n",
        "            \n",
        "            if self.scale is None:\n",
        "                plt.plot(data)\n",
        "            elif self.scale == 'semilogx':\n",
        "                plt.semilogx(data)\n",
        "            elif self.scale == 'semilogy':\n",
        "                plt.semilogy(data)\n",
        "            elif self.scale == 'loglog':\n",
        "                plt.loglog(data)\n",
        "            else:\n",
        "                raise ValueError(\"unrecognized parameter scale {}\".format(self.scale))\n",
        "                \n",
        "            plt.xlabel(self.xlabel); plt.ylabel(self.ylabel)\n",
        "            ipythondisplay.clear_output(wait=True)\n",
        "            ipythondisplay.display(plt.gcf())\n",
        "            \n",
        "            self.tic = time.time()"
      ],
      "execution_count": 0,
      "outputs": []
    },
    {
      "cell_type": "code",
      "metadata": {
        "id": "V0OsSncKd6qo",
        "colab_type": "code",
        "outputId": "3a4bdc92-c4c7-483a-d36f-b5209b41d7f3",
        "colab": {
          "base_uri": "https://localhost:8080/",
          "height": 549
        }
      },
      "source": [
        "cartpole_model = create_cartpole_model()\n",
        "\n",
        "smoothed_reward = LossHistory(smoothing_factor=0.9)\n",
        "plotter = PeriodicPlotter(sec=5, xlabel='Iterations', ylabel='Rewards')\n",
        "\n",
        "for i_episode in range(1000):\n",
        "    plotter.plot(smoothed_reward.get())\n",
        "    \n",
        "    observation = env.reset()\n",
        "    \n",
        "    while True:\n",
        "        action = choose_action(cartpole_model, observation)\n",
        "        next_observation, reward, done, info = env.step(action)\n",
        "        \n",
        "        memory.add_to_memory(observation, action, reward)\n",
        "        \n",
        "        if done:\n",
        "            total_reward = sum(memory.rewards)\n",
        "            smoothed_reward.append( total_reward )\n",
        "            \n",
        "            train_step(cartpole_model, optimizer, observations = np.vstack(memory.observations), \n",
        "                       actions = np.array(memory.actions), \n",
        "                       discounted_rewards = discount_rewards(memory.rewards))\n",
        "            memory.clear()\n",
        "            break\n",
        "            \n",
        "        observation = next_observation"
      ],
      "execution_count": 0,
      "outputs": [
        {
          "output_type": "display_data",
          "data": {
            "image/png": "[encoded data removed]",
            "text/plain": [
              "<Figure size 432x288 with 1 Axes>"
            ]
          },
          "metadata": {
            "tags": []
          }
        },
        {
          "output_type": "display_data",
          "data": {
            "image/png": "[encoded data removed]",
            "text/plain": [
              "<Figure size 432x288 with 1 Axes>"
            ]
          },
          "metadata": {
            "tags": []
          }
        }
      ]
    },
    {
      "cell_type": "code",
      "metadata": {
        "id": "go8UwVr2d6qr",
        "colab_type": "code",
        "outputId": "57c3f22d-91d3-4402-b50f-d2a52343bf8d",
        "colab": {
          "base_uri": "https://localhost:8080/",
          "height": 34
        }
      },
      "source": [
        "def save_video_of_model(model, env_name, filename='agent1.mp4'):\n",
        "    import skvideo.io\n",
        "    from pyvirtualdisplay import Display\n",
        "    display = Display(visible= 0, size =(40, 30))\n",
        "    display.start()\n",
        "    \n",
        "    env = gym.make(env_name)\n",
        "    obs = env.reset()\n",
        "    shape = env.render(mode='rgb_array').shape[0:2]\n",
        "    \n",
        "    out = skvideo.io.FFmpegWriter(filename)\n",
        "    \n",
        "    done = False\n",
        "    while not done:\n",
        "        frame = env.render(mode = 'rgb_array')\n",
        "        out.writeFrame(frame)\n",
        "        \n",
        "        action = model(tf.convert_to_tensor(obs.reshape((1,-1)), tf.float32)).numpy().argmax()\n",
        "        obs, reward, done, info = env.step(action)\n",
        "    out.close()\n",
        "    print(\"Successfully saved into {}!\".format(filename))\n",
        "    \n",
        "save_video_of_model(cartpole_model, \"CartPole-v0\")"
      ],
      "execution_count": 0,
      "outputs": [
        {
          "output_type": "stream",
          "text": [
            "Successfully saved into agent1.mp4!\n"
          ],
          "name": "stdout"
        }
      ]
    },
    {
      "cell_type": "code",
      "metadata": {
        "id": "4OZF1Q9sd6qv",
        "colab_type": "code",
        "outputId": "52b3910d-bf71-4d2f-a1cc-3e13b1a8940d",
        "colab": {
          "base_uri": "https://localhost:8080/",
          "height": 421
        }
      },
      "source": [
        "from IPython.display import HTML\n",
        "import io, base64\n",
        "video = io.open('./agent1.mp4', 'r+b').read()\n",
        "encoded = base64.b64encode(video)\n",
        "HTML(data='''\n",
        "<video controls>\n",
        "  <source src=\"data:video/mp4;base64,{0}\" type=\"video/mp4\" />\n",
        "\n",
        "</video>'''.format(encoded.decode('ascii')))"
      ],
      "execution_count": 0,
      "outputs": [
        {
          "output_type": "execute_result",
          "data": {
            "text/html": [
              "\n",
              "<video controls>\n",
              "  <source src=\"data:video/mp4;base64,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\" type=\"video/mp4\" />\n",
              "\n",
              "</video>"
            ],
            "text/plain": [
              "<IPython.core.display.HTML object>"
            ]
          },
          "metadata": {
            "tags": []
          },
          "execution_count": 18
        }
      ]
    },
    {
      "cell_type": "code",
      "metadata": {
        "id": "lDaVe21-qKQq",
        "colab_type": "code",
        "outputId": "f81165ca-1db8-4d39-aba6-342872a0f26d",
        "colab": {
          "base_uri": "https://localhost:8080/",
          "height": 64
        }
      },
      "source": [
        "ls"
      ],
      "execution_count": 0,
      "outputs": [
        {
          "output_type": "stream",
          "text": [
            "agent.mp4  \u001b[0m\u001b[01;34mintrotodeeplearning_labs\u001b[0m/  \u001b[01;34msample_data\u001b[0m/\n"
          ],
          "name": "stdout"
        }
      ]
    },
    {
      "cell_type": "code",
      "metadata": {
        "id": "rOn9YqA3qchH",
        "colab_type": "code",
        "colab": {}
      },
      "source": [
        "from google.colab import files\n",
        "files.download('agent.mp4')"
      ],
      "execution_count": 0,
      "outputs": []
    },
    {
      "cell_type": "code",
      "metadata": {
        "id": "0kTFTxerxiQb",
        "colab_type": "code",
        "colab": {}
      },
      "source": [
        "tf.reset_default_graph()"
      ],
      "execution_count": 0,
      "outputs": []
    }
  ]
}