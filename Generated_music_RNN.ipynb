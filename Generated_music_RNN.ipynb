{
  "nbformat": 4,
  "nbformat_minor": 0,
  "metadata": {
    "colab": {
      "name": "Generated music RNN",
      "version": "0.3.2",
      "provenance": [],
      "collapsed_sections": [],
      "include_colab_link": true
    },
    "kernelspec": {
      "name": "python3",
      "display_name": "Python 3"
    },
    "accelerator": "GPU"
  },
  "cells": [
    {
      "cell_type": "markdown",
      "metadata": {
        "id": "view-in-github",
        "colab_type": "text"
      },
      "source": [
        "<a href=\"https://colab.research.google.com/github/vangelis-michael/Deep-learning-/blob/master/Generated_music_RNN.ipynb\" target=\"_parent\"><img src=\"https://colab.research.google.com/assets/colab-badge.svg\" alt=\"Open In Colab\"/></a>"
      ]
    },
    {
      "cell_type": "markdown",
      "metadata": {
        "id": "0_DIKPoGaXdz",
        "colab_type": "text"
      },
      "source": [
        "## MUSIC GENERATION USING RECURRENT NEURAL NETWORK"
      ]
    },
    {
      "cell_type": "code",
      "metadata": {
        "id": "58dR6E0EavzO",
        "colab_type": "code",
        "outputId": "cbbfdf7b-e935-4b6a-e8ed-74e7b7753295",
        "colab": {
          "base_uri": "https://localhost:8080/",
          "height": 205
        }
      },
      "source": [
        "! git clone https://github.com/aamini/introtodeeplearning_labs.git\n",
        "% cd introtodeeplearning_labs\n",
        "! git pull\n",
        "% cd .."
      ],
      "execution_count": 0,
      "outputs": [
        {
          "output_type": "stream",
          "text": [
            "Cloning into 'introtodeeplearning_labs'...\n",
            "remote: Enumerating objects: 13, done.\u001b[K\n",
            "remote: Counting objects:   7% (1/13)   \u001b[K\rremote: Counting objects:  15% (2/13)   \u001b[K\rremote: Counting objects:  23% (3/13)   \u001b[K\rremote: Counting objects:  30% (4/13)   \u001b[K\rremote: Counting objects:  38% (5/13)   \u001b[K\rremote: Counting objects:  46% (6/13)   \u001b[K\rremote: Counting objects:  53% (7/13)   \u001b[K\rremote: Counting objects:  61% (8/13)   \u001b[K\rremote: Counting objects:  69% (9/13)   \u001b[K\rremote: Counting objects:  76% (10/13)   \u001b[K\rremote: Counting objects:  84% (11/13)   \u001b[K\rremote: Counting objects:  92% (12/13)   \u001b[K\rremote: Counting objects: 100% (13/13)   \u001b[K\rremote: Counting objects: 100% (13/13), done.\u001b[K\n",
            "remote: Compressing objects: 100% (11/11), done.\u001b[K\n",
            "remote: Total 1072 (delta 5), reused 5 (delta 2), pack-reused 1059\u001b[K\n",
            "Receiving objects: 100% (1072/1072), 121.30 MiB | 22.78 MiB/s, done.\n",
            "Resolving deltas: 100% (594/594), done.\n",
            "/content/introtodeeplearning_labs\n",
            "Already up to date.\n",
            "/content\n"
          ],
          "name": "stdout"
        }
      ]
    },
    {
      "cell_type": "code",
      "metadata": {
        "id": "NorErtMAjis7",
        "colab_type": "code",
        "outputId": "d3082501-4476-4663-acc0-6d19e567750b",
        "colab": {
          "base_uri": "https://localhost:8080/",
          "height": 35
        }
      },
      "source": [
        "cd lab1\n"
      ],
      "execution_count": 0,
      "outputs": [
        {
          "output_type": "stream",
          "text": [
            "/content/introtodeeplearning_labs/lab1\n"
          ],
          "name": "stdout"
        }
      ]
    },
    {
      "cell_type": "code",
      "metadata": {
        "id": "7VyxLoDKq49f",
        "colab_type": "code",
        "outputId": "e17d13da-bcd1-46fc-c5b4-8c1a4ac93005",
        "colab": {
          "base_uri": "https://localhost:8080/",
          "height": 118
        }
      },
      "source": [
        "ls"
      ],
      "execution_count": 0,
      "outputs": [
        {
          "output_type": "stream",
          "text": [
            "\u001b[0m\u001b[01;32mabc2wav\u001b[0m*     Part1_tensorflow.ipynb                 README.md\n",
            "\u001b[01;34mdata\u001b[0m/        Part1_tensorflow_solution.ipynb        tmp.abc\n",
            "\u001b[01;34mimg\u001b[0m/         Part2_music_generation.ipynb           util.py\n",
            "__init__.py  Part2_music_generation_solution.ipynb\n"
          ],
          "name": "stdout"
        }
      ]
    },
    {
      "cell_type": "code",
      "metadata": {
        "id": "G1O5lEKobTxU",
        "colab_type": "code",
        "colab": {}
      },
      "source": [
        "import tensorflow as tf\n",
        "tf.enable_eager_execution()\n",
        "\n",
        "import numpy as np\n",
        "import os\n",
        "import time\n",
        "import functools\n",
        "from IPython import display as ipythondisplay\n",
        "\n",
        "# from introtodeeplearning_labs import util\n",
        "\n",
        "is_correct_tf_version = '1.13.0' in tf.__version__\n",
        "assert is_correct_tf_version, \"Wrong tensorflow version ({}) installed\".format(tf.__version__)\n",
        "\n",
        "is_eager_enabled = tf.executing_eagerly()\n",
        "assert is_eager_enabled, \"Tensorflow eager mode is not enabled\"\n",
        "\n",
        "'''If this does not return true on Colaboratory, go to runtime -> change runtime type -> GPU or see a TA'''\n",
        "# assert tf.test.is_gpu_available()\n",
        "\n",
        "!apt-get install abcmidi timidity > /dev/null 2>&1"
      ],
      "execution_count": 0,
      "outputs": []
    },
    {
      "cell_type": "code",
      "metadata": {
        "id": "VLsXqo9PbTvC",
        "colab_type": "code",
        "outputId": "137640e1-7b6b-4374-9a07-b6e307508625",
        "colab": {
          "base_uri": "https://localhost:8080/",
          "height": 690
        }
      },
      "source": [
        "!pip install tensorflow==1.13.0rc0"
      ],
      "execution_count": 0,
      "outputs": [
        {
          "output_type": "stream",
          "text": [
            "Collecting tensorflow==1.13.0rc0\n",
            "\u001b[?25l  Downloading https://files.pythonhosted.org/packages/b9/e3/d7fbb8b0bf5089b129610d7d3f4ac004bd23af7f217baca467f6292f8283/tensorflow-1.13.0rc0-cp36-cp36m-manylinux1_x86_64.whl (92.6MB)\n",
            "\u001b[K    100% |████████████████████████████████| 92.6MB 380kB/s \n",
            "\u001b[?25hRequirement already satisfied: wheel>=0.26 in /usr/local/lib/python3.6/dist-packages (from tensorflow==1.13.0rc0) (0.33.1)\n",
            "Requirement already satisfied: termcolor>=1.1.0 in /usr/local/lib/python3.6/dist-packages (from tensorflow==1.13.0rc0) (1.1.0)\n",
            "Collecting tensorboard<1.13.0,>=1.12.0 (from tensorflow==1.13.0rc0)\n",
            "\u001b[?25l  Downloading https://files.pythonhosted.org/packages/07/53/8d32ce9471c18f8d99028b7cef2e5b39ea8765bd7ef250ca05b490880971/tensorboard-1.12.2-py3-none-any.whl (3.0MB)\n",
            "\u001b[K    100% |████████████████████████████████| 3.1MB 12.2MB/s \n",
            "\u001b[?25hRequirement already satisfied: keras-applications>=1.0.6 in /usr/local/lib/python3.6/dist-packages (from tensorflow==1.13.0rc0) (1.0.7)\n",
            "Requirement already satisfied: astor>=0.6.0 in /usr/local/lib/python3.6/dist-packages (from tensorflow==1.13.0rc0) (0.7.1)\n",
            "Requirement already satisfied: protobuf>=3.6.1 in /usr/local/lib/python3.6/dist-packages (from tensorflow==1.13.0rc0) (3.6.1)\n",
            "Requirement already satisfied: absl-py>=0.1.6 in /usr/local/lib/python3.6/dist-packages (from tensorflow==1.13.0rc0) (0.7.0)\n",
            "Requirement already satisfied: numpy>=1.13.3 in /usr/local/lib/python3.6/dist-packages (from tensorflow==1.13.0rc0) (1.14.6)\n",
            "Requirement already satisfied: six>=1.10.0 in /usr/local/lib/python3.6/dist-packages (from tensorflow==1.13.0rc0) (1.11.0)\n",
            "Requirement already satisfied: tensorflow-estimator>=1.10.0 in /usr/local/lib/python3.6/dist-packages (from tensorflow==1.13.0rc0) (1.13.0)\n",
            "Requirement already satisfied: grpcio>=1.8.6 in /usr/local/lib/python3.6/dist-packages (from tensorflow==1.13.0rc0) (1.15.0)\n",
            "Requirement already satisfied: keras-preprocessing>=1.0.5 in /usr/local/lib/python3.6/dist-packages (from tensorflow==1.13.0rc0) (1.0.9)\n",
            "Requirement already satisfied: gast>=0.2.0 in /usr/local/lib/python3.6/dist-packages (from tensorflow==1.13.0rc0) (0.2.2)\n",
            "Requirement already satisfied: werkzeug>=0.11.10 in /usr/local/lib/python3.6/dist-packages (from tensorboard<1.13.0,>=1.12.0->tensorflow==1.13.0rc0) (0.14.1)\n",
            "Requirement already satisfied: markdown>=2.6.8 in /usr/local/lib/python3.6/dist-packages (from tensorboard<1.13.0,>=1.12.0->tensorflow==1.13.0rc0) (3.0.1)\n",
            "Requirement already satisfied: h5py in /usr/local/lib/python3.6/dist-packages (from keras-applications>=1.0.6->tensorflow==1.13.0rc0) (2.8.0)\n",
            "Requirement already satisfied: setuptools in /usr/local/lib/python3.6/dist-packages (from protobuf>=3.6.1->tensorflow==1.13.0rc0) (40.8.0)\n",
            "Requirement already satisfied: mock>=2.0.0 in /usr/local/lib/python3.6/dist-packages (from tensorflow-estimator>=1.10.0->tensorflow==1.13.0rc0) (2.0.0)\n",
            "Requirement already satisfied: pbr>=0.11 in /usr/local/lib/python3.6/dist-packages (from mock>=2.0.0->tensorflow-estimator>=1.10.0->tensorflow==1.13.0rc0) (5.1.2)\n",
            "Installing collected packages: tensorboard, tensorflow\n",
            "  Found existing installation: tensorboard 1.13.0\n",
            "    Uninstalling tensorboard-1.13.0:\n",
            "      Successfully uninstalled tensorboard-1.13.0\n",
            "  Found existing installation: tensorflow 1.13.1\n",
            "    Uninstalling tensorflow-1.13.1:\n",
            "      Successfully uninstalled tensorflow-1.13.1\n",
            "Successfully installed tensorboard-1.12.2 tensorflow-1.13.0rc0\n"
          ],
          "name": "stdout"
        },
        {
          "output_type": "display_data",
          "data": {
            "application/vnd.colab-display-data+json": {
              "pip_warning": {
                "packages": [
                  "tensorflow"
                ]
              }
            }
          },
          "metadata": {
            "tags": []
          }
        }
      ]
    },
    {
      "cell_type": "code",
      "metadata": {
        "id": "ePm379KdbTp1",
        "colab_type": "code",
        "outputId": "3d8aa9e9-9a31-4ae5-f0d9-b5e504374740",
        "colab": {
          "base_uri": "https://localhost:8080/",
          "height": 53
        }
      },
      "source": [
        "path_to_file = tf.keras.utils.get_file('irish.abc', 'https://raw.githubusercontent.com/aamini/introtodeeplearning_labs/2019/lab1/data/irish.abc')"
      ],
      "execution_count": 0,
      "outputs": [
        {
          "output_type": "stream",
          "text": [
            "Downloading data from https://raw.githubusercontent.com/aamini/introtodeeplearning_labs/2019/lab1/data/irish.abc\n",
            "204800/197618 [===============================] - 0s 0us/step\n"
          ],
          "name": "stdout"
        }
      ]
    },
    {
      "cell_type": "code",
      "metadata": {
        "id": "uKWSqfSMbToA",
        "colab_type": "code",
        "outputId": "5978b9e6-ba02-4e7a-e799-5d94ab10ae90",
        "colab": {
          "base_uri": "https://localhost:8080/",
          "height": 35
        }
      },
      "source": [
        "text = open(path_to_file).read()\n",
        "#length of text is the nnumber of characters in it\n",
        "print('length of text: {} characters'.format(len(text)))"
      ],
      "execution_count": 0,
      "outputs": [
        {
          "output_type": "stream",
          "text": [
            "length of text: 197618 characters\n"
          ],
          "name": "stdout"
        }
      ]
    },
    {
      "cell_type": "code",
      "metadata": {
        "id": "HADYITAkrQ2G",
        "colab_type": "code",
        "outputId": "cc39aec6-8fce-4ccc-8687-c856c7b19057",
        "colab": {
          "base_uri": "https://localhost:8080/",
          "height": 133
        }
      },
      "source": [
        "import util"
      ],
      "execution_count": 0,
      "outputs": [
        {
          "output_type": "error",
          "ename": "SyntaxError",
          "evalue": "ignored",
          "traceback": [
            "\u001b[0;36m  File \u001b[0;32m\"/content/introtodeeplearning_labs/lab1/util.py\"\u001b[0;36m, line \u001b[0;32m10\u001b[0m\n\u001b[0;31m    print \"Found {} possible songs in generated texts\".format(len(songs))\u001b[0m\n\u001b[0m                                                     ^\u001b[0m\n\u001b[0;31mSyntaxError\u001b[0m\u001b[0;31m:\u001b[0m invalid syntax\n"
          ]
        }
      ]
    },
    {
      "cell_type": "code",
      "metadata": {
        "id": "mMZho4p_sisi",
        "colab_type": "code",
        "outputId": "458a968c-ce93-4128-ed49-c74f3c15f00c",
        "colab": {
          "base_uri": "https://localhost:8080/",
          "height": 741
        }
      },
      "source": [
        "%cat util.py"
      ],
      "execution_count": 0,
      "outputs": [
        {
          "output_type": "stream",
          "text": [
            "import os\n",
            "import subprocess\n",
            "import regex as re\n",
            "\n",
            "\n",
            "def extract_song_snippet(generated_text):\n",
            "    pattern = '\\n\\n(.*?)\\n\\n'\n",
            "    search_results = re.findall(pattern, generated_text, overlapped=True, flags=re.DOTALL)\n",
            "    songs = [song for song in search_results]\n",
            "    print \"Found {} possible songs in generated texts\".format(len(songs))\n",
            "    return songs\n",
            "\n",
            "def save_song_to_abc(song, filename=\"tmp\"):\n",
            "    save_name = \"{}.abc\".format(filename)\n",
            "    with open(save_name, \"w\") as f:\n",
            "        f.write(song)\n",
            "    return filename\n",
            "\n",
            "def abc2wav(abc_file):\n",
            "    path_to_tool = './introtodeeplearning_labs/lab1/abc2wav'\n",
            "    cmd = \"{} {}\".format(path_to_tool, abc_file)\n",
            "    return os.system(cmd)\n",
            "\n",
            "def play_wav(wav_file):\n",
            "    from IPython.display import Audio\n",
            "    return Audio(wav_file)\n",
            "\n",
            "def play_generated_song(generated_text):\n",
            "    songs = extract_song_snippet(generated_text)\n",
            "    if len(songs) == 0:\n",
            "        print \"No valid songs found in generated text. Try training the model longer or increasing the amount of generated music to ensure complete songs are generated!\"\n",
            "\n",
            "    for song in songs:\n",
            "        basename = save_song_to_abc(song)\n",
            "        ret = abc2wav(basename+'.abc')\n",
            "        if ret == 0: #did not suceed\n",
            "            return play_wav(basename+'.wav')\n",
            "    print \"None of the songs were valid, try training longer to improve syntax.\"\n"
          ],
          "name": "stdout"
        }
      ]
    },
    {
      "cell_type": "code",
      "metadata": {
        "id": "dV74ZliBs86i",
        "colab_type": "code",
        "outputId": "1342012a-e7b8-482b-c68e-99be74dadbe4",
        "colab": {
          "base_uri": "https://localhost:8080/",
          "height": 164
        }
      },
      "source": [
        "%lsmagic"
      ],
      "execution_count": 0,
      "outputs": [
        {
          "output_type": "execute_result",
          "data": {
            "application/json": {
              "cell": {
                "prun": "ExecutionMagics",
                "file": "Other",
                "!": "OSMagics",
                "capture": "ExecutionMagics",
                "timeit": "ExecutionMagics",
                "script": "ScriptMagics",
                "pypy": "Other",
                "system": "OSMagics",
                "perl": "Other",
                "html": "DisplayMagics",
                "bash": "Other",
                "shell": "Other",
                "HTML": "Other",
                "python": "Other",
                "SVG": "Other",
                "javascript": "DisplayMagics",
                "bigquery": "Other",
                "js": "DisplayMagics",
                "writefile": "OSMagics",
                "ruby": "Other",
                "python3": "Other",
                "python2": "Other",
                "latex": "DisplayMagics",
                "sx": "OSMagics",
                "svg": "DisplayMagics",
                "sh": "Other",
                "time": "ExecutionMagics",
                "debug": "ExecutionMagics"
              },
              "line": {
                "psource": "NamespaceMagics",
                "logstart": "LoggingMagics",
                "popd": "OSMagics",
                "loadpy": "CodeMagics",
                "colors": "BasicMagics",
                "who_ls": "NamespaceMagics",
                "lf": "Other",
                "ll": "Other",
                "pprint": "BasicMagics",
                "lk": "Other",
                "ls": "Other",
                "save": "CodeMagics",
                "tb": "ExecutionMagics",
                "lx": "Other",
                "pylab": "PylabMagics",
                "killbgscripts": "ScriptMagics",
                "quickref": "BasicMagics",
                "magic": "BasicMagics",
                "dhist": "OSMagics",
                "edit": "KernelMagics",
                "logstop": "LoggingMagics",
                "gui": "BasicMagics",
                "prun": "ExecutionMagics",
                "debug": "ExecutionMagics",
                "page": "BasicMagics",
                "logstate": "LoggingMagics",
                "ed": "Other",
                "pushd": "OSMagics",
                "timeit": "ExecutionMagics",
                "set_env": "OSMagics",
                "rehashx": "OSMagics",
                "hist": "Other",
                "qtconsole": "KernelMagics",
                "rm": "Other",
                "dirs": "OSMagics",
                "run": "ExecutionMagics",
                "reset_selective": "NamespaceMagics",
                "pinfo2": "NamespaceMagics",
                "matplotlib": "PylabMagics",
                "unload_ext": "ExtensionMagics",
                "doctest_mode": "BasicMagics",
                "logoff": "LoggingMagics",
                "reload_ext": "ExtensionMagics",
                "pdb": "ExecutionMagics",
                "load": "CodeMagics",
                "lsmagic": "BasicMagics",
                "autosave": "KernelMagics",
                "cd": "OSMagics",
                "pastebin": "CodeMagics",
                "alias_magic": "BasicMagics",
                "cp": "Other",
                "autocall": "AutoMagics",
                "ldir": "Other",
                "bookmark": "OSMagics",
                "connect_info": "KernelMagics",
                "mkdir": "Other",
                "system": "OSMagics",
                "whos": "NamespaceMagics",
                "rmdir": "Other",
                "automagic": "AutoMagics",
                "store": "StoreMagics",
                "more": "KernelMagics",
                "shell": "Other",
                "pdef": "NamespaceMagics",
                "precision": "BasicMagics",
                "pinfo": "NamespaceMagics",
                "pwd": "OSMagics",
                "psearch": "NamespaceMagics",
                "reset": "NamespaceMagics",
                "recall": "HistoryMagics",
                "xdel": "NamespaceMagics",
                "xmode": "BasicMagics",
                "cat": "Other",
                "mv": "Other",
                "rerun": "HistoryMagics",
                "logon": "LoggingMagics",
                "history": "HistoryMagics",
                "pycat": "OSMagics",
                "unalias": "OSMagics",
                "env": "OSMagics",
                "load_ext": "ExtensionMagics",
                "config": "ConfigMagics",
                "profile": "BasicMagics",
                "pfile": "NamespaceMagics",
                "less": "KernelMagics",
                "who": "NamespaceMagics",
                "notebook": "BasicMagics",
                "man": "KernelMagics",
                "sx": "OSMagics",
                "macro": "ExecutionMagics",
                "clear": "KernelMagics",
                "alias": "OSMagics",
                "time": "ExecutionMagics",
                "sc": "OSMagics",
                "rep": "Other",
                "pdoc": "NamespaceMagics"
              }
            },
            "text/plain": [
              "Available line magics:\n",
              "%alias  %alias_magic  %autocall  %automagic  %autosave  %bookmark  %cat  %cd  %clear  %colors  %config  %connect_info  %cp  %debug  %dhist  %dirs  %doctest_mode  %ed  %edit  %env  %gui  %hist  %history  %killbgscripts  %ldir  %less  %lf  %lk  %ll  %load  %load_ext  %loadpy  %logoff  %logon  %logstart  %logstate  %logstop  %ls  %lsmagic  %lx  %macro  %magic  %man  %matplotlib  %mkdir  %more  %mv  %notebook  %page  %pastebin  %pdb  %pdef  %pdoc  %pfile  %pinfo  %pinfo2  %popd  %pprint  %precision  %profile  %prun  %psearch  %psource  %pushd  %pwd  %pycat  %pylab  %qtconsole  %quickref  %recall  %rehashx  %reload_ext  %rep  %rerun  %reset  %reset_selective  %rm  %rmdir  %run  %save  %sc  %set_env  %shell  %store  %sx  %system  %tb  %time  %timeit  %unalias  %unload_ext  %who  %who_ls  %whos  %xdel  %xmode\n",
              "\n",
              "Available cell magics:\n",
              "%%!  %%HTML  %%SVG  %%bash  %%bigquery  %%capture  %%debug  %%file  %%html  %%javascript  %%js  %%latex  %%perl  %%prun  %%pypy  %%python  %%python2  %%python3  %%ruby  %%script  %%sh  %%shell  %%svg  %%sx  %%system  %%time  %%timeit  %%writefile\n",
              "\n",
              "Automagic is ON, % prefix IS NOT needed for line magics."
            ]
          },
          "metadata": {
            "tags": []
          },
          "execution_count": 20
        }
      ]
    },
    {
      "cell_type": "code",
      "metadata": {
        "id": "5ofgZu3MttRc",
        "colab_type": "code",
        "colab": {}
      },
      "source": [
        "import os\n",
        "import subprocess\n",
        "import regex as re\n",
        "\n",
        "\n",
        "def extract_song_snippet(generated_text):\n",
        "    pattern = '\\n\\n(.*?)\\n\\n'\n",
        "    search_results = re.findall(pattern, generated_text, overlapped=True, flags=re.DOTALL)\n",
        "    songs = [song for song in search_results]\n",
        "    print(\"Found {} possible songs in generated texts\".format(len(songs)))\n",
        "    return songs\n",
        "\n",
        "def save_song_to_abc(song, filename=\"tmp\"):\n",
        "    save_name = \"{}.abc\".format(filename)\n",
        "    with open(save_name, \"w\") as f:\n",
        "        f.write(song)\n",
        "    return filename\n",
        "\n",
        "def abc2wav(abc_file):\n",
        "    path_to_tool = './introtodeeplearning_labs/lab1/abc2wav'\n",
        "    cmd = \"{} {}\".format(path_to_tool, abc_file)\n",
        "    return os.system(cmd)\n",
        "\n",
        "def play_wav(wav_file):\n",
        "    from IPython.display import Audio\n",
        "    return Audio(wav_file)\n",
        "\n",
        "def play_generated_song(generated_text):\n",
        "    songs = extract_song_snippet(generated_text)\n",
        "    if len(songs) == 0:\n",
        "        print(\"No valid songs found in generated text. Try training the model longer or increasing the amount of generated music to ensure complete songs are generated!\")\n",
        "\n",
        "    for song in songs:\n",
        "        basename = save_song_to_abc(song)\n",
        "        ret = abc2wav(basename+'.abc')\n",
        "        if ret == 0: #did not suceed\n",
        "            return play_wav(basename+'.wav')\n",
        "    print(\"None of the songs were valid, try training longer to improve syntax.\")"
      ],
      "execution_count": 0,
      "outputs": []
    },
    {
      "cell_type": "code",
      "metadata": {
        "id": "1IRRJfX3bTi_",
        "colab_type": "code",
        "outputId": "90f85b47-5a04-47a3-cf21-ed55a91b86d1",
        "colab": {
          "base_uri": "https://localhost:8080/",
          "height": 53
        }
      },
      "source": [
        "play_generated_song(text)"
      ],
      "execution_count": 0,
      "outputs": [
        {
          "output_type": "stream",
          "text": [
            "Found 816 possible songs in generated texts\n",
            "None of the songs were valid, try training longer to improve syntax.\n"
          ],
          "name": "stdout"
        }
      ]
    },
    {
      "cell_type": "code",
      "metadata": {
        "id": "ydKa6n7pbTew",
        "colab_type": "code",
        "outputId": "a06f4771-c3c5-4daf-fee1-8d79ccd36adb",
        "colab": {
          "base_uri": "https://localhost:8080/",
          "height": 193
        }
      },
      "source": [
        "print(text[:250])"
      ],
      "execution_count": 0,
      "outputs": [
        {
          "output_type": "stream",
          "text": [
            "X:1\n",
            "T:Alexander's\n",
            "Z: id:dc-hornpipe-1\n",
            "M:C|\n",
            "L:1/8\n",
            "K:D Major\n",
            "(3ABc|dAFA DFAd|fdcd FAdf|gfge fefd|(3efe (3dcB A2 (3ABc|!\n",
            "dAFA DFAd|fdcd FAdf|gfge fefd|(3efe dc d2:|!\n",
            "AG|FAdA FAdA|GBdB GBdB|Acec Acec|dfaf gecA|!\n",
            "FAdA FAdA|GBdB GBdB|Aceg fefd|(3efe dc d2:\n"
          ],
          "name": "stdout"
        }
      ]
    },
    {
      "cell_type": "code",
      "metadata": {
        "id": "yWUbB6WrbTSC",
        "colab_type": "code",
        "outputId": "161a3a01-fe48-4d5f-c0dd-04350acc47fa",
        "colab": {
          "base_uri": "https://localhost:8080/",
          "height": 35
        }
      },
      "source": [
        "# The unique characters in the file\n",
        "vocab = sorted(set(text))\n",
        "print('{} unique characters'.format(len(vocab)))"
      ],
      "execution_count": 0,
      "outputs": [
        {
          "output_type": "stream",
          "text": [
            "83 unique characters\n"
          ],
          "name": "stdout"
        }
      ]
    },
    {
      "cell_type": "code",
      "metadata": {
        "id": "h7cQ83klukry",
        "colab_type": "code",
        "colab": {}
      },
      "source": [
        "# Creating a mapping from unique characters to indices\n",
        "char2idx = {u:i for i, u in enumerate(vocab)}\n",
        "text_as_int = np.array([char2idx[c] for c in text])\n",
        "\n",
        "'''TODO: create a mapping from indices to characters'''\n",
        "idx2char = np.array(vocab)"
      ],
      "execution_count": 0,
      "outputs": []
    },
    {
      "cell_type": "code",
      "metadata": {
        "id": "zkr1IIcbumNx",
        "colab_type": "code",
        "outputId": "e161ada8-722e-4026-bd2b-28a84bbdb2ba",
        "colab": {
          "base_uri": "https://localhost:8080/",
          "height": 386
        }
      },
      "source": [
        "print('{}')\n",
        "for char, _ in zip(char2idx, range(20)):\n",
        "  print(' {:4s}: {:3d},'.format(repr(char), char2idx[char]))"
      ],
      "execution_count": 0,
      "outputs": [
        {
          "output_type": "stream",
          "text": [
            "{}\n",
            " '\\n':   0,\n",
            " ' ' :   1,\n",
            " '!' :   2,\n",
            " '\"' :   3,\n",
            " '#' :   4,\n",
            " \"'\" :   5,\n",
            " '(' :   6,\n",
            " ')' :   7,\n",
            " ',' :   8,\n",
            " '-' :   9,\n",
            " '.' :  10,\n",
            " '/' :  11,\n",
            " '0' :  12,\n",
            " '1' :  13,\n",
            " '2' :  14,\n",
            " '3' :  15,\n",
            " '4' :  16,\n",
            " '5' :  17,\n",
            " '6' :  18,\n",
            " '7' :  19,\n"
          ],
          "name": "stdout"
        }
      ]
    },
    {
      "cell_type": "code",
      "metadata": {
        "id": "n6eBSx58umIJ",
        "colab_type": "code",
        "outputId": "f1e39d99-c7cf-4246-9ed7-ee88aebc9b1f",
        "colab": {
          "base_uri": "https://localhost:8080/",
          "height": 35
        }
      },
      "source": [
        "print('{} ------ characters mapped to int ------ > {}'.format(repr(text[:13]), text_as_int[:13]))"
      ],
      "execution_count": 0,
      "outputs": [
        {
          "output_type": "stream",
          "text": [
            "'X:1\\nT:Alexand' ------ characters mapped to int ------ > [49 22 13  0 45 22 26 67 60 79 56 69 59]\n"
          ],
          "name": "stdout"
        }
      ]
    },
    {
      "cell_type": "code",
      "metadata": {
        "id": "kKEToGdYul78",
        "colab_type": "code",
        "colab": {}
      },
      "source": [
        "# The maximum length sentence we want for a single input in characters\n",
        "seq_length = 100\n",
        "examples_per_epoch = len(text)//seq_length\n",
        "\n",
        "# Create training examples / targets\n",
        "# Note how we are using the 'tf.data' module!\n",
        "char_dataset = tf.data.Dataset.from_tensor_slices(text_as_int)\n",
        "\n",
        "'''TODO: use the batch function to generate sequences of the desired size'''\n",
        "'''Hint: you'll want to set the drop remainder=True'''\n",
        "sequences = char_dataset.batch(seq_length+1, drop_remainder= True)"
      ],
      "execution_count": 0,
      "outputs": []
    },
    {
      "cell_type": "code",
      "metadata": {
        "id": "_pt7fL2Zul2s",
        "colab_type": "code",
        "colab": {}
      },
      "source": [
        "'''Define a function that takes a sequence (chunk) and outputs both the input and target text sequences'''\n",
        "'''Hint: consider the \"Hello\" example'''\n",
        "def split_input_target(chunk):\n",
        "  input_text = chunk[:-1]\n",
        "  target_text = chunk[1:]\n",
        "  return input_text, target_text\n",
        "\n",
        "'''TODO: use the map method to apply our function to the list of sequences to generate the dataset!'''\n",
        "dataset = sequences.map(split_input_target)"
      ],
      "execution_count": 0,
      "outputs": []
    },
    {
      "cell_type": "code",
      "metadata": {
        "id": "5K-HVll-ulq0",
        "colab_type": "code",
        "outputId": "2a7231d1-e99c-48b9-b11a-3a5ecb8b9a3a",
        "colab": {
          "base_uri": "https://localhost:8080/",
          "height": 357
        }
      },
      "source": [
        "for input_example, target_example in dataset.take(1):\n",
        "  \n",
        "  for i, (input_idx, target_idx) in enumerate(zip(input_example[:5], target_example[:5])):\n",
        "    print(\"Step {:4d}\".format(i))\n",
        "    print(\"  input: {} ({:s})\".format(input_idx, repr(idx2char[input_idx])))\n",
        "    print(\"  expected output: {} ({:s})\".format(target_idx, repr(idx2char[target_idx])))"
      ],
      "execution_count": 0,
      "outputs": [
        {
          "output_type": "stream",
          "text": [
            "WARNING:tensorflow:From /usr/local/lib/python3.6/dist-packages/tensorflow/python/data/ops/iterator_ops.py:532: colocate_with (from tensorflow.python.framework.ops) is deprecated and will be removed in a future version.\n",
            "Instructions for updating:\n",
            "Colocations handled automatically by placer.\n",
            "Step    0\n",
            "  input: 49 ('X')\n",
            "  expected output: 22 (':')\n",
            "Step    1\n",
            "  input: 22 (':')\n",
            "  expected output: 13 ('1')\n",
            "Step    2\n",
            "  input: 13 ('1')\n",
            "  expected output: 0 ('\\n')\n",
            "Step    3\n",
            "  input: 0 ('\\n')\n",
            "  expected output: 45 ('T')\n",
            "Step    4\n",
            "  input: 45 ('T')\n",
            "  expected output: 22 (':')\n"
          ],
          "name": "stdout"
        }
      ]
    },
    {
      "cell_type": "code",
      "metadata": {
        "id": "8VGtuzOkull5",
        "colab_type": "code",
        "outputId": "356e9706-ff2b-4a9f-d362-bc7627f56184",
        "colab": {
          "base_uri": "https://localhost:8080/",
          "height": 35
        }
      },
      "source": [
        "# Batch size\n",
        "BATCH_SIZE = 64\n",
        "steps_per_epoch = examples_per_epoch//BATCH_SIZE\n",
        "\n",
        "# Buffer size is similar to a queue size \n",
        "# This defines a manageable data size to put into memory, where elements are shuffled\n",
        "BUFFER_SIZE = 10000\n",
        "\n",
        "dataset = dataset.shuffle(BUFFER_SIZE).batch(BATCH_SIZE, drop_remainder=True)\n",
        "\n",
        "# Examine the dimensions of the dataset\n",
        "dataset"
      ],
      "execution_count": 0,
      "outputs": [
        {
          "output_type": "execute_result",
          "data": {
            "text/plain": [
              "<DatasetV1Adapter shapes: ((64, 100), (64, 100)), types: (tf.int64, tf.int64)>"
            ]
          },
          "metadata": {
            "tags": []
          },
          "execution_count": 39
        }
      ]
    },
    {
      "cell_type": "markdown",
      "metadata": {
        "id": "tKmEHEntXzw6",
        "colab_type": "text"
      },
      "source": [
        "### Define the RNN model"
      ]
    },
    {
      "cell_type": "code",
      "metadata": {
        "id": "Y_JallOOulWD",
        "colab_type": "code",
        "colab": {}
      },
      "source": [
        "# length of the vocabulary in chars\n",
        "vocab_size = len(vocab)\n",
        "\n",
        "# The embedding dimension\n",
        "embedding_dim = 256\n",
        "\n",
        "# The number of RNN units\n",
        "'''TODO: after running through the lab, try changing the number of units in the network to see how it affects performance'''\n",
        "rnn_units = 1024"
      ],
      "execution_count": 0,
      "outputs": []
    },
    {
      "cell_type": "code",
      "metadata": {
        "id": "UaZTpP2pb1LJ",
        "colab_type": "code",
        "colab": {}
      },
      "source": [
        "if tf.test.is_gpu_available():\n",
        "  LSTM = tf.keras.layers.CuDNNLSTM\n",
        "else:\n",
        "  LSTM = functools.partial(tf.keras.layers.LSTM, recurrent_activation='sigmoid')\n",
        "  \n",
        "LSTM = functools.partial(LSTM, return_sequences=True, recurrent_initializer='glorot_uniform', stateful=True)"
      ],
      "execution_count": 0,
      "outputs": []
    },
    {
      "cell_type": "code",
      "metadata": {
        "id": "NubgnV25b1Cm",
        "colab_type": "code",
        "colab": {}
      },
      "source": [
        "def build_model(vocab_size, embedding_dim, rnn_units, batch_size):\n",
        "  model = tf.keras.Sequential([\n",
        "      tf.keras.layers.Embedding(vocab_size, embedding_dim,\n",
        "                                batch_input_shape=[batch_size, None]),\n",
        "      LSTM(rnn_units),\n",
        "      tf.keras.layers.Dense(vocab_size)\n",
        "  ])\n",
        "  \n",
        "  # Define the dimensionality of the RNN\n",
        "  # Define the dimensionality of the Dense layer\n",
        "  return model"
      ],
      "execution_count": 0,
      "outputs": []
    },
    {
      "cell_type": "code",
      "metadata": {
        "id": "66b1Oiz7b06L",
        "colab_type": "code",
        "colab": {}
      },
      "source": [
        "# Call the build_model function to instantiate the RNN model\n",
        "model = build_model(\n",
        "    vocab_size = len(vocab),\n",
        "    embedding_dim=embedding_dim,\n",
        "    rnn_units=rnn_units, \n",
        "    batch_size=BATCH_SIZE)"
      ],
      "execution_count": 0,
      "outputs": []
    },
    {
      "cell_type": "code",
      "metadata": {
        "id": "6fO0U0mtb0yF",
        "colab_type": "code",
        "outputId": "e237a0d8-9caf-4f44-c9b7-61433d66cd9d",
        "colab": {
          "base_uri": "https://localhost:8080/",
          "height": 245
        }
      },
      "source": [
        "model.summary()"
      ],
      "execution_count": 0,
      "outputs": [
        {
          "output_type": "stream",
          "text": [
            "_________________________________________________________________\n",
            "Layer (type)                 Output Shape              Param #   \n",
            "=================================================================\n",
            "embedding_3 (Embedding)      (64, None, 256)           21248     \n",
            "_________________________________________________________________\n",
            "lstm (LSTM)                  (64, None, 1024)          5246976   \n",
            "_________________________________________________________________\n",
            "dense (Dense)                (64, None, 83)            85075     \n",
            "=================================================================\n",
            "Total params: 5,353,299\n",
            "Trainable params: 5,353,299\n",
            "Non-trainable params: 0\n",
            "_________________________________________________________________\n"
          ],
          "name": "stdout"
        }
      ]
    },
    {
      "cell_type": "code",
      "metadata": {
        "id": "GWtP9epbb0p5",
        "colab_type": "code",
        "outputId": "d2909ffb-61bc-47f8-adc3-622465fd0a3a",
        "colab": {
          "base_uri": "https://localhost:8080/",
          "height": 43
        }
      },
      "source": [
        "for input_example_batch, target_example_batch in dataset.take(1):\n",
        "  example_batch_predictions = model(input_example_batch)\n",
        "  print(example_batch_predictions.shape, \"# (batch_size, sequence_length, vocab_size)\")"
      ],
      "execution_count": 0,
      "outputs": [
        {
          "output_type": "stream",
          "text": [
            "(64, 100, 83) # (batch_size, sequence_length, vocab_size)\n"
          ],
          "name": "stdout"
        }
      ]
    },
    {
      "cell_type": "code",
      "metadata": {
        "id": "cO-h_IQYb0h5",
        "colab_type": "code",
        "outputId": "e8fc6d74-3be6-4749-c263-8281b9f4a504",
        "colab": {
          "base_uri": "https://localhost:8080/",
          "height": 94
        }
      },
      "source": [
        "sampled_indices = tf.random.multinomial(example_batch_predictions[0], num_samples=1)\n",
        "sampled_indices = tf.squeeze(sampled_indices, axis= -1).numpy()"
      ],
      "execution_count": 0,
      "outputs": [
        {
          "output_type": "stream",
          "text": [
            "WARNING:tensorflow:From <ipython-input-53-3845e1b384dc>:1: multinomial (from tensorflow.python.ops.random_ops) is deprecated and will be removed in a future version.\n",
            "Instructions for updating:\n",
            "Use tf.random.categorical instead.\n"
          ],
          "name": "stdout"
        }
      ]
    },
    {
      "cell_type": "code",
      "metadata": {
        "id": "rIZ2pFo0b0aK",
        "colab_type": "code",
        "outputId": "98787d42-87a3-4e45-94fe-7033592042d5",
        "colab": {
          "base_uri": "https://localhost:8080/",
          "height": 123
        }
      },
      "source": [
        "sampled_indices"
      ],
      "execution_count": 0,
      "outputs": [
        {
          "output_type": "execute_result",
          "data": {
            "text/plain": [
              "array([ 1, 49, 44, 36, 80, 32, 42, 73, 69, 45, 57, 82, 76, 42, 65, 26,  3,\n",
              "       40, 34, 35, 59, 80, 37, 52, 19, 15, 77, 11, 51, 42, 36, 39, 49, 10,\n",
              "       55, 38, 81, 78, 79, 74,  7, 68, 64, 26, 38, 82, 50, 15, 20, 73, 74,\n",
              "       59, 33, 32, 56, 13, 36, 65, 47,  2, 13, 78, 15, 32,  8, 48, 61,  1,\n",
              "       28, 46, 10, 57, 36, 12,  2, 51, 41,  2, 67, 40, 24, 43, 61, 37, 65,\n",
              "       63, 35, 38, 46, 25, 44, 47, 25, 50, 32, 81, 22,  0,  1, 76])"
            ]
          },
          "metadata": {
            "tags": []
          },
          "execution_count": 54
        }
      ]
    },
    {
      "cell_type": "code",
      "metadata": {
        "id": "G_nNyhykb0SS",
        "colab_type": "code",
        "outputId": "962adcca-f7ea-497d-a02d-937e92258a5e",
        "colab": {
          "base_uri": "https://localhost:8080/",
          "height": 105
        }
      },
      "source": [
        "print(\" Input: \\n\", repr(\"\".join(idx2char[input_example_batch[0]])))\n",
        "print()\n",
        "print(\"Next Char Predictions: \\n\", repr(\"\".join(idx2char[sampled_indices ])))"
      ],
      "execution_count": 0,
      "outputs": [
        {
          "output_type": "stream",
          "text": [
            " Input: \n",
            " '|BA A2:|!\\nce fa/f/|ec BA|ce fa/f/|ec B2|!\\nce fa/f/|ec BA|ef/e/ cB|BA A2:|!\\n\\nX:17\\nT:Farewell to Whisk'\n",
            "\n",
            "Next Char Predictions: \n",
            " ' XSKyGQrnTb|uQjA\"OIJdyL[73v/ZQKNX._Mzwxs)miAM|Y38rsdHGa1KjV!1w3G,Wf CU.bK0!ZP!lO=RfLjhJMU>SV>YGz:\\n u'\n"
          ],
          "name": "stdout"
        }
      ]
    },
    {
      "cell_type": "markdown",
      "metadata": {
        "id": "_iHSawiv3E4Z",
        "colab_type": "text"
      },
      "source": [
        "### Training the model"
      ]
    },
    {
      "cell_type": "code",
      "metadata": {
        "id": "UEciiSuWb0Kv",
        "colab_type": "code",
        "outputId": "7d08682b-f115-41f0-b35c-e2fb7c9eb6a6",
        "colab": {
          "base_uri": "https://localhost:8080/",
          "height": 53
        }
      },
      "source": [
        "def compute_loss(labels, logits):\n",
        "  return tf.keras.backend.sparse_categorical_crossentropy(labels, logits, from_logits=True)\n",
        "\n",
        "'''TODO: compute the loss using the example batch and predictions from above'''\n",
        "example_batch_loss = compute_loss(target_example_batch, example_batch_predictions)\n",
        "print(\"Prediction shape: \", example_batch_predictions.shape, \" # (batch_size, sequence_length, vocab_size)\")\n",
        "print(\"scalar_loss:      \", example_batch_loss.numpy().mean())"
      ],
      "execution_count": 0,
      "outputs": [
        {
          "output_type": "stream",
          "text": [
            "Prediction shape:  (64, 100, 83)  # (batch_size, sequence_length, vocab_size)\n",
            "scalar_loss:       4.4186854\n"
          ],
          "name": "stdout"
        }
      ]
    },
    {
      "cell_type": "code",
      "metadata": {
        "id": "438wlzqL-ZGq",
        "colab_type": "code",
        "colab": {}
      },
      "source": [
        "import matplotlib.pyplot as plt\n",
        "import time\n",
        "\n",
        "class PeriodicPlotter:\n",
        "  def __init__(self, sec, xlabel='', ylabel='', scale=None):\n",
        "    from IPython import display as ipythondisplay\n",
        "    import matplotlib.pyplot as plt\n",
        "    import time\n",
        "    \n",
        "    self.xlabel = xlabel\n",
        "    self.ylabel = ylabel\n",
        "    self.sec = sec\n",
        "    self.scale = scale\n",
        "    \n",
        "    self.tic = time.time()\n",
        "    \n",
        "  def plot(self, data):\n",
        "    if time.time() - self.tic > self.sec:\n",
        "      plt.cla()    \n",
        "\n",
        "      if self.scale is None:\n",
        "        plt.plot(data)\n",
        "      elif self.scale == 'semilogx':\n",
        "        plt.semilogx(data)\n",
        "      elif self.scale == 'semilogy':\n",
        "        plt.semilogy(data)\n",
        "      elif self.scale == 'loglog':\n",
        "        plt.loglog(data)\n",
        "      else:\n",
        "        raise ValueError(\"unrecognized parameter scale {}\".format(self.scale))\n",
        "\n",
        "      plt.xlabel(self.xlabel); plt.ylabel(self.ylabel)\n",
        "      ipythondisplay.clear_output(wait=True)\n",
        "      ipythondisplay.display(plt.gcf())\n",
        "\n",
        "      self.tic = time.time()"
      ],
      "execution_count": 0,
      "outputs": []
    },
    {
      "cell_type": "code",
      "metadata": {
        "id": "QG_BlI6lB1bm",
        "colab_type": "code",
        "colab": {}
      },
      "source": [
        "def custom_progress_text(message):\n",
        "  import progressbar\n",
        "  from string import Formatter\n",
        "\n",
        "  message_ = message.replace('(', '{')\n",
        "  message_ = message_.replace(')', '}')\n",
        "\n",
        "  keys = [key[1] for key in Formatter().parse(message_)]\n",
        "\n",
        "  ids = {}\n",
        "  for key in keys:\n",
        "    if key is not None:\n",
        "      ids[key] = float('nan')\n",
        "\n",
        "  msg = progressbar.FormatCustomText(message, ids)\n",
        "  return msg\n",
        "\n",
        "def create_progress_bar(text=None):\n",
        "  import progressbar\n",
        "  if text is None:\n",
        "    text = progressbar.FormatCustomText('')\n",
        "  bar = progressbar.ProgressBar(widgets=[\n",
        "      progressbar.Percentage(),\n",
        "      progressbar.Bar(),\n",
        "      progressbar.AdaptiveETA(), '  ',\n",
        "      text,\n",
        "  ])\n",
        "  return bar\n",
        "\n",
        "def display_model(model):\n",
        "  tf.keras.utils.plot_model(model,\n",
        "                            to_file='tmp.png',\n",
        "                            show_shapes=True)\n",
        "  from IPython.display import Image\n",
        "  return Image('tmp.png')\n",
        "\n",
        "def plot_sample(x,y,vae):\n",
        "    plt.figure(figsize=(2,1))\n",
        "    plt.subplot(1, 2, 1)\n",
        "    idx = np.where(y.numpy()==1)[0][0]\n",
        "    plt.imshow(x[idx])\n",
        "    plt.grid(False)\n",
        "\n",
        "    plt.subplot(1, 2, 2)\n",
        "    plt.imshow(vae(x)[idx])\n",
        "    plt.grid(False)\n",
        "\n",
        "    plt.show()\n",
        "\n",
        "class LossHistory:\n",
        "  def __init__(self, smoothing_factor=0.0):\n",
        "    self.alpha = smoothing_factor\n",
        "    self.loss = []\n",
        "  def append(self, value):\n",
        "    self.loss.append( self.alpha*self.loss[-1] + (1-self.alpha)*value if len(self.loss)>0 else value )\n",
        "  def get(self):\n",
        "    return self.loss"
      ],
      "execution_count": 0,
      "outputs": []
    },
    {
      "cell_type": "code",
      "metadata": {
        "id": "WTZ4hTJAb0DZ",
        "colab_type": "code",
        "outputId": "e04a78b6-e7e9-485f-f21a-720cf022cb4f",
        "colab": {
          "base_uri": "https://localhost:8080/",
          "height": 723
        }
      },
      "source": [
        "# Training step\n",
        "EPOCHS = 5\n",
        "'''TODO: experiment with different optimizers'''\n",
        "'''How does changing this affects the network's performance'''\n",
        "optimizer = tf.train.AdamOptimizer() #TODO\n",
        "checkpoint_dir = './training_checkpoints'\n",
        "checkpoint_prefix = os.path.join(checkpoint_dir, \"ckpt_{epoch}\")\n",
        "\n",
        "history = []\n",
        "plotter = PeriodicPlotter(sec=1, xlabel='Iterations', ylabel='Loss')\n",
        "for epoch in range(EPOCHS):\n",
        "  # Initialize the hidden state at the start of very epoch; initially it is none\n",
        "  hidden = model.reset_states()\n",
        "  \n",
        "  # Enumerate the dataset for use in training\n",
        "  custom_msg = custom_progress_text(\"Loss: %(loss)2.2f\")\n",
        "  bar = create_progress_bar(custom_msg)\n",
        "  for inp, target in bar(dataset):\n",
        "    # Use tf.GradientTape()\n",
        "    with tf.GradientTape() as tape:\n",
        "      # feed the current input into the model and generate predictions\n",
        "      predictions = model(inp) #\n",
        "      # Compute the loss!\n",
        "      loss = compute_loss(target, predictions)\n",
        "      \n",
        "    # Now compute the gradients and try to minimize\n",
        "    grads = tape.gradient(loss, model.trainable_variables)\n",
        "    optimizer.apply_gradients(zip(grads, model.trainable_variables))\n",
        "    \n",
        "    # Update the progress bar\n",
        "    history.append(loss.numpy().mean())\n",
        "    custom_msg.update_mapping(loss=history[-1])\n",
        "    plotter.plot(history)\n",
        "    \n",
        "  # Update the model with the changed weights!\n",
        "  model.save_weights(checkpoint_prefix.format(epoch=epoch))"
      ],
      "execution_count": 0,
      "outputs": [
        {
          "output_type": "display_data",
          "data": {
            "image/png": "[encoded data removed]",
            "text/plain": [
              "<Figure size 576x396 with 1 Axes>"
            ]
          },
          "metadata": {
            "tags": []
          }
        },
        {
          "output_type": "stream",
          "text": [
            "\r                                                                               \r\rN/A%|#                                              |Time:  0:08:24  Loss: 1.49\n"
          ],
          "name": "stderr"
        },
        {
          "output_type": "display_data",
          "data": {
            "image/png": "[encoded data removed]",
            "text/plain": [
              "<Figure size 576x396 with 1 Axes>"
            ]
          },
          "metadata": {
            "tags": []
          }
        }
      ]
    },
    {
      "cell_type": "code",
      "metadata": {
        "id": "CpHv0Wkpbz7w",
        "colab_type": "code",
        "colab": {}
      },
      "source": [
        "model = build_model(vocab_size, embedding_dim, rnn_units, batch_size = 1)\n",
        "model.load_weights(tf.train.latest_checkpoint(checkpoint_dir))\n",
        "model.build(tf.TensorShape([1, None]))"
      ],
      "execution_count": 0,
      "outputs": []
    },
    {
      "cell_type": "code",
      "metadata": {
        "id": "HN0X3fCIbz0w",
        "colab_type": "code",
        "outputId": "71b4fcee-44ed-4002-d16c-9b6a42d16795",
        "colab": {
          "base_uri": "https://localhost:8080/",
          "height": 245
        }
      },
      "source": [
        "model.summary()"
      ],
      "execution_count": 0,
      "outputs": [
        {
          "output_type": "stream",
          "text": [
            "_________________________________________________________________\n",
            "Layer (type)                 Output Shape              Param #   \n",
            "=================================================================\n",
            "embedding_4 (Embedding)      (1, None, 256)            21248     \n",
            "_________________________________________________________________\n",
            "lstm_1 (LSTM)                (1, None, 1024)           5246976   \n",
            "_________________________________________________________________\n",
            "dense_1 (Dense)              (1, None, 83)             85075     \n",
            "=================================================================\n",
            "Total params: 5,353,299\n",
            "Trainable params: 5,353,299\n",
            "Non-trainable params: 0\n",
            "_________________________________________________________________\n"
          ],
          "name": "stdout"
        }
      ]
    },
    {
      "cell_type": "code",
      "metadata": {
        "id": "tDN3FCrzbzkw",
        "colab_type": "code",
        "colab": {}
      },
      "source": [
        "def generate_text(model, start_string, generation_length= 1000):\n",
        "  # Evaluation step (generating ABC text sing the learned RNN model)\n",
        "  # Convert the start string to numbers (vectorize)\n",
        "  input_eval = [char2idx[s] for s in start_string]\n",
        "  input_eval = tf.expand_dims(input_eval, 0)\n",
        "  \n",
        "  # Empty string to store our results\n",
        "  text_generated = []\n",
        "  \n",
        "  # Here batch size == 1\n",
        "  model.reset_states()\n",
        "  bar = create_progress_bar()\n",
        "  for i in bar(range(generation_length)):\n",
        "    # Evaluate the inputs and generate the next character predictions\n",
        "    predictions = model(input_eval)\n",
        "    \n",
        "    # Remove the batch dimension\n",
        "    predictions = tf.squeeze(predictions, 0)\n",
        "    \n",
        "    # Use a multinomial distribution to sample\n",
        "    predicted_id = tf.multinomial(predictions, num_samples=1)[-1,0].numpy()\n",
        "    \n",
        "    # Pass the prediction along with the previous hidden state as the next inputs to the model\n",
        "    input_eval = tf.expand_dims([predicted_id], 0)\n",
        "    \n",
        "    # Add the predicted character to the generated text\n",
        "    # Hint: consider what format the prediction is in, vs. the output\n",
        "    text_generated.append(idx2char[predicted_id])\n",
        "    \n",
        "  return (start_string + ''.join(text_generated))"
      ],
      "execution_count": 0,
      "outputs": []
    },
    {
      "cell_type": "code",
      "metadata": {
        "id": "B65EI6i4PzUf",
        "colab_type": "code",
        "outputId": "f5bec18e-0565-40fb-95a5-8d8012de74c0",
        "colab": {
          "base_uri": "https://localhost:8080/",
          "height": 35
        }
      },
      "source": [
        "# Use the model to generate ABC format text!\n",
        "# As you may have noticed, ABC files start with 'X' - this may be a good start string\n",
        "text = generate_text(model, start_string=\"X\")"
      ],
      "execution_count": 0,
      "outputs": [
        {
          "output_type": "stream",
          "text": [
            "100%|#########################################################|Time:  0:00:20  \n"
          ],
          "name": "stderr"
        }
      ]
    },
    {
      "cell_type": "code",
      "metadata": {
        "id": "pF0n96VvPzG3",
        "colab_type": "code",
        "outputId": "c5421422-079b-41d7-e8aa-afa4b11620fd",
        "colab": {
          "base_uri": "https://localhost:8080/",
          "height": 53
        }
      },
      "source": [
        "play_generated_song(text)"
      ],
      "execution_count": 0,
      "outputs": [
        {
          "output_type": "stream",
          "text": [
            "Found 5 possible songs in generated texts\n",
            "None of the songs were valid, try training longer to improve syntax.\n"
          ],
          "name": "stdout"
        }
      ]
    },
    {
      "cell_type": "code",
      "metadata": {
        "id": "mMUodsx-Py5p",
        "colab_type": "code",
        "outputId": "77d623e3-1d94-4c0c-b50d-a485d01bcef2",
        "colab": {
          "base_uri": "https://localhost:8080/",
          "height": 929
        }
      },
      "source": [
        "print(text)"
      ],
      "execution_count": 0,
      "outputs": [
        {
          "output_type": "stream",
          "text": [
            "X:|!\n",
            "GGB cBA|FGA D2:|!\n",
            "dB|fgf gde|BAA EDA|GAG2 dABA|AFB2 BdA2|!\n",
            "BAAB AGE2|fBdB G3E|Bd^c dBfiganc yag1 g^^F|]!\n",
            "\n",
            "X:33 [iwlTy Rdoe\n",
            "Z: Cd:dc-jian-8\n",
            "M:6/8\n",
            "K:G/Doriaf efed|dAFF|GBA|BAF F2:|!\n",
            "d|gBde GBA|cBec dcBA|defd cfd|AFA FAF|ABcd e2BA|!\n",
            "dfec ABGB|BAFG A2dc|E2FG FAGA|ddeg ABd:|!\n",
            "\n",
            "X:2\n",
            "9\n",
            "M:uinoror'\n",
            "Z: id:dc-heilan23\n",
            "M:3/4\n",
            "L:1/8\n",
            "K:G Mojor\n",
            "d2|cABG BcdB|d3B ABgg|f=e^c2 efed gabg|efbe cBA2|b3a d2gf|fdec d32|!\n",
            "A3ec FAGB|cAFB dBfe|dgcB B3:|!\n",
            "B2G A2G:|!\n",
            "fddg fdfg|gABA e3B|dcBAG EDE2|]!\n",
            "\n",
            "X:143\n",
            "T:Rigkt2 Brtp o\n",
            "Z: id:dc-reelge-11\n",
            "M:C\n",
            "L:1/8\n",
            "K:D Major\n",
            "an\n",
            "fe dfe|d2G dGF|A2c dBB|AFG AFD|FGB ACF|G2E DFG|D2D DDD|!\n",
            "D2A B22F|GFAG BAF|cege gdBd|cABE BAFB|A3e (ABcg|efef gbaf|afa=g: !\n",
            "fea^c dGEG|ABdc efec|BGBF FGEF|!\n",
            "ecde BBAG|FAGF A2:|!\n",
            "\n",
            "X:275\n",
            "T:Coenn!\n",
            "T: id:dc-pell-475\n",
            "M:C\n",
            "L:1/8\n",
            "K:G MajoreFae|efdB cABc|dec4 AFFE|D2GA AGBc|!\n",
            "\n",
            "X:822\n",
            "T:wllgekraionr\n",
            "Z: id:dc-jig-j33 iajbg efg|egd fed|fef g2:|!\n",
            "g|afef gded|Bdc2 cefg|!\n",
            "dafg baga|gaaf efd^c|cAe2 a2bg|f2ag abgg|!\n",
            "BAA2 FGAF|GGBd Bdce|dece ABc-|!\n",
            "\n",
            "X:133\n",
            "T:Jxwiss Rubeeuo\n"
          ],
          "name": "stdout"
        }
      ]
    },
    {
      "cell_type": "code",
      "metadata": {
        "id": "vrjVaotsPysg",
        "colab_type": "code",
        "colab": {}
      },
      "source": [
        ""
      ],
      "execution_count": 0,
      "outputs": []
    },
    {
      "cell_type": "code",
      "metadata": {
        "id": "eF--Y5dIPyeV",
        "colab_type": "code",
        "colab": {}
      },
      "source": [
        ""
      ],
      "execution_count": 0,
      "outputs": []
    },
    {
      "cell_type": "code",
      "metadata": {
        "id": "mWpX5Ty5PyCL",
        "colab_type": "code",
        "colab": {}
      },
      "source": [
        ""
      ],
      "execution_count": 0,
      "outputs": []
    },
    {
      "cell_type": "code",
      "metadata": {
        "id": "5B0w6L80bzUx",
        "colab_type": "code",
        "colab": {}
      },
      "source": [
        ""
      ],
      "execution_count": 0,
      "outputs": []
    }
  ]
}